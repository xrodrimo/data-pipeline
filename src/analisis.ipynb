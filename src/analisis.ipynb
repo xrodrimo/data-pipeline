{
 "cells": [
  {
   "cell_type": "code",
   "execution_count": 1,
   "metadata": {},
   "outputs": [
    {
     "data": {
      "text/plain": [
       "Index(['League', 'Year', 'Season', 'Type', 'blueTeamTag', 'bResult', 'rResult',\n",
       "       'redTeamTag', 'gamelength', 'blueTop', 'blueTopChamp', 'blueJungle',\n",
       "       'blueJungleChamp', 'blueMiddle', 'blueMiddleChamp', 'blueADC',\n",
       "       'blueADCChamp', 'blueSupport', 'blueSupportChamp', 'redTop',\n",
       "       'redTopChamp', 'redJungle', 'redJungleChamp', 'redMiddle',\n",
       "       'redMiddleChamp', 'redADC', 'redADCChamp', 'redSupport',\n",
       "       'redSupportChamp', 'Address'],\n",
       "      dtype='object')"
      ]
     },
     "execution_count": 1,
     "metadata": {},
     "output_type": "execute_result"
    }
   ],
   "source": [
    "# Libraries\n",
    "import numpy as np\n",
    "import pandas as pd\n",
    "import re\n",
    "\n",
    "# Importing \n",
    "champ = pd.read_csv(\"../data/Champions.csv\")\n",
    "bans = pd.read_csv(\"../data/bans.csv\")\n",
    "match = pd.read_csv(\"../data/matchinfo.csv\")\n",
    "match.drop(['redTeamTag', 'Address', 'blueTeamTag','League'], axis=1, inplace=True)\n",
    "match.columns = [i.lower().replace(\" \", \"-\")   for i in match.columns]\n",
    "match.sample(4)\n",
    "\n",
    "\n",
    "\n",
    "\n",
    "header_mapping = {\n",
    "    'year': 'year',\n",
    "    'season': 'season',\n",
    "    'bresult' : 'b_res',\n",
    "    'Activity' : 'activity',\n",
    "    'Sex ' : 'sex',\n",
    "    'Injury' : 'injury',\n",
    "    'Fatal (Y/N)' : 'fatal_boolean',\n",
    "    'Time' : 'time',\n",
    "}\n",
    "attacks = attacks.rename(columns=header_mapping)\n",
    "\n"
   ]
  },
  {
   "cell_type": "code",
   "execution_count": 2,
   "metadata": {},
   "outputs": [],
   "source": [
    "\n"
   ]
  },
  {
   "cell_type": "code",
   "execution_count": 3,
   "metadata": {},
   "outputs": [
    {
     "data": {
      "text/html": [
       "<div>\n",
       "<style scoped>\n",
       "    .dataframe tbody tr th:only-of-type {\n",
       "        vertical-align: middle;\n",
       "    }\n",
       "\n",
       "    .dataframe tbody tr th {\n",
       "        vertical-align: top;\n",
       "    }\n",
       "\n",
       "    .dataframe thead th {\n",
       "        text-align: right;\n",
       "    }\n",
       "</style>\n",
       "<table border=\"1\" class=\"dataframe\">\n",
       "  <thead>\n",
       "    <tr style=\"text-align: right;\">\n",
       "      <th></th>\n",
       "      <th>year</th>\n",
       "      <th>season</th>\n",
       "      <th>type</th>\n",
       "      <th>bresult</th>\n",
       "      <th>rresult</th>\n",
       "      <th>gamelength</th>\n",
       "      <th>bluetop</th>\n",
       "      <th>bluetopchamp</th>\n",
       "      <th>bluejungle</th>\n",
       "      <th>bluejunglechamp</th>\n",
       "      <th>...</th>\n",
       "      <th>redtop</th>\n",
       "      <th>redtopchamp</th>\n",
       "      <th>redjungle</th>\n",
       "      <th>redjunglechamp</th>\n",
       "      <th>redmiddle</th>\n",
       "      <th>redmiddlechamp</th>\n",
       "      <th>redadc</th>\n",
       "      <th>redadcchamp</th>\n",
       "      <th>redsupport</th>\n",
       "      <th>redsupportchamp</th>\n",
       "    </tr>\n",
       "  </thead>\n",
       "  <tbody>\n",
       "    <tr>\n",
       "      <th>877</th>\n",
       "      <td>2017</td>\n",
       "      <td>Summer</td>\n",
       "      <td>Season</td>\n",
       "      <td>1</td>\n",
       "      <td>0</td>\n",
       "      <td>28</td>\n",
       "      <td>Looper</td>\n",
       "      <td>Kennen</td>\n",
       "      <td>Akaadian</td>\n",
       "      <td>LeeSin</td>\n",
       "      <td>...</td>\n",
       "      <td>Lourlo</td>\n",
       "      <td>Jayce</td>\n",
       "      <td>Reignover</td>\n",
       "      <td>Elise</td>\n",
       "      <td>Slooshi</td>\n",
       "      <td>Cassiopeia</td>\n",
       "      <td>Piglet</td>\n",
       "      <td>Varus</td>\n",
       "      <td>Matt</td>\n",
       "      <td>Karma</td>\n",
       "    </tr>\n",
       "    <tr>\n",
       "      <th>857</th>\n",
       "      <td>2017</td>\n",
       "      <td>Summer</td>\n",
       "      <td>Season</td>\n",
       "      <td>0</td>\n",
       "      <td>1</td>\n",
       "      <td>45</td>\n",
       "      <td>Flame</td>\n",
       "      <td>JarvanIV</td>\n",
       "      <td>Xmithie</td>\n",
       "      <td>Elise</td>\n",
       "      <td>...</td>\n",
       "      <td>zig</td>\n",
       "      <td>Shen</td>\n",
       "      <td>Inori</td>\n",
       "      <td>Khazix</td>\n",
       "      <td>Ryu</td>\n",
       "      <td>Ahri</td>\n",
       "      <td>Arrow</td>\n",
       "      <td>Varus</td>\n",
       "      <td>Shady</td>\n",
       "      <td>Karma</td>\n",
       "    </tr>\n",
       "    <tr>\n",
       "      <th>7417</th>\n",
       "      <td>2015</td>\n",
       "      <td>Summer</td>\n",
       "      <td>Promotion</td>\n",
       "      <td>1</td>\n",
       "      <td>0</td>\n",
       "      <td>37</td>\n",
       "      <td>CuVee</td>\n",
       "      <td>Maokai</td>\n",
       "      <td>Eve</td>\n",
       "      <td>Gragas</td>\n",
       "      <td>...</td>\n",
       "      <td>KaKaRot</td>\n",
       "      <td>Gnar</td>\n",
       "      <td>Shaft</td>\n",
       "      <td>Sejuani</td>\n",
       "      <td>caNdy</td>\n",
       "      <td>Xerath</td>\n",
       "      <td>LuNar</td>\n",
       "      <td>Sivir</td>\n",
       "      <td>TML</td>\n",
       "      <td>Nautilus</td>\n",
       "    </tr>\n",
       "    <tr>\n",
       "      <th>2078</th>\n",
       "      <td>2015</td>\n",
       "      <td>Spring</td>\n",
       "      <td>Season</td>\n",
       "      <td>0</td>\n",
       "      <td>1</td>\n",
       "      <td>37</td>\n",
       "      <td>CuVee</td>\n",
       "      <td>Lulu</td>\n",
       "      <td>Eve</td>\n",
       "      <td>RekSai</td>\n",
       "      <td>...</td>\n",
       "      <td>Smeb</td>\n",
       "      <td>Rumble</td>\n",
       "      <td>Lee</td>\n",
       "      <td>JarvanIV</td>\n",
       "      <td>Kuro</td>\n",
       "      <td>Lissandra</td>\n",
       "      <td>PraY</td>\n",
       "      <td>Corki</td>\n",
       "      <td>GorillA</td>\n",
       "      <td>Thresh</td>\n",
       "    </tr>\n",
       "  </tbody>\n",
       "</table>\n",
       "<p>4 rows × 26 columns</p>\n",
       "</div>"
      ],
      "text/plain": [
       "      year  season       type  bresult  rresult  gamelength bluetop  \\\n",
       "877   2017  Summer     Season        1        0          28  Looper   \n",
       "857   2017  Summer     Season        0        1          45   Flame   \n",
       "7417  2015  Summer  Promotion        1        0          37   CuVee   \n",
       "2078  2015  Spring     Season        0        1          37   CuVee   \n",
       "\n",
       "     bluetopchamp bluejungle bluejunglechamp  ...   redtop redtopchamp  \\\n",
       "877        Kennen   Akaadian          LeeSin  ...   Lourlo       Jayce   \n",
       "857      JarvanIV    Xmithie           Elise  ...      zig        Shen   \n",
       "7417       Maokai        Eve          Gragas  ...  KaKaRot        Gnar   \n",
       "2078         Lulu        Eve          RekSai  ...     Smeb      Rumble   \n",
       "\n",
       "      redjungle redjunglechamp redmiddle redmiddlechamp  redadc redadcchamp  \\\n",
       "877   Reignover          Elise   Slooshi     Cassiopeia  Piglet       Varus   \n",
       "857       Inori         Khazix       Ryu           Ahri   Arrow       Varus   \n",
       "7417      Shaft        Sejuani     caNdy         Xerath   LuNar       Sivir   \n",
       "2078        Lee       JarvanIV      Kuro      Lissandra    PraY       Corki   \n",
       "\n",
       "     redsupport redsupportchamp  \n",
       "877        Matt           Karma  \n",
       "857       Shady           Karma  \n",
       "7417        TML        Nautilus  \n",
       "2078    GorillA          Thresh  \n",
       "\n",
       "[4 rows x 26 columns]"
      ]
     },
     "execution_count": 3,
     "metadata": {},
     "output_type": "execute_result"
    }
   ],
   "source": [
    "match.sample(4)"
   ]
  },
  {
   "cell_type": "code",
   "execution_count": 6,
   "metadata": {},
   "outputs": [
    {
     "data": {
      "text/plain": [
       "Index(['year', 'season', 'type', 'bresult', 'rresult', 'gamelength', 'bluetop',\n",
       "       'bluetopchamp', 'bluejungle', 'bluejunglechamp', 'bluemiddle',\n",
       "       'bluemiddlechamp', 'blueadc', 'blueadcchamp', 'bluesupport',\n",
       "       'bluesupportchamp', 'redtop', 'redtopchamp', 'redjungle',\n",
       "       'redjunglechamp', 'redmiddle', 'redmiddlechamp', 'redadc',\n",
       "       'redadcchamp', 'redsupport', 'redsupportchamp'],\n",
       "      dtype='object')"
      ]
     },
     "execution_count": 6,
     "metadata": {},
     "output_type": "execute_result"
    }
   ],
   "source": [
    "match.columns"
   ]
  },
  {
   "cell_type": "code",
   "execution_count": 5,
   "metadata": {},
   "outputs": [
    {
     "name": "stdout",
     "output_type": "stream",
     "text": [
      "['Season' 'Playoffs' 'Regional' 'International' 'Promotion']\n"
     ]
    }
   ],
   "source": [
    "unique_values = match['type'].unique()\n",
    "print(unique_values)"
   ]
  }
 ],
 "metadata": {
  "kernelspec": {
   "display_name": "Python 3",
   "language": "python",
   "name": "python3"
  },
  "language_info": {
   "codemirror_mode": {
    "name": "ipython",
    "version": 3
   },
   "file_extension": ".py",
   "mimetype": "text/x-python",
   "name": "python",
   "nbconvert_exporter": "python",
   "pygments_lexer": "ipython3",
   "version": "3.8.18"
  }
 },
 "nbformat": 4,
 "nbformat_minor": 2
}
