{
 "cells": [
  {
   "cell_type": "code",
   "execution_count": 1,
   "metadata": {},
   "outputs": [],
   "source": [
    "import requests\n",
    "from bs4 import BeautifulSoup # pip install beautifulsoup4\n",
    "import pandas as pd\n",
    "import re\n",
    "import pandas as pd\n",
    "from urllib.request import urlopen"
   ]
  },
  {
   "cell_type": "code",
   "execution_count": 2,
   "metadata": {},
   "outputs": [],
   "source": [
    "url = \"https://mobalytics.gg/lol/tier-list?iRole=SUPPORT\" # We slect our URL\n",
    "html = requests.get(url).content # With the library \"request\" we ask to get al content on the previous URL selected\n",
    "soup = BeautifulSoup(html,'html.parser') # Parsing HTML involves breaking down the HTML code into its individual components, such as elements, attributes, and their values."
   ]
  },
  {
   "cell_type": "code",
   "execution_count": 3,
   "metadata": {},
   "outputs": [
    {
     "data": {
      "text/plain": [
       "<title data-react-helmet=\"true\">LoL Tier List for All Roles: League Meta in Patch 13.21</title>"
      ]
     },
     "execution_count": 3,
     "metadata": {},
     "output_type": "execute_result"
    }
   ],
   "source": [
    "soup.title # We got the title of the page"
   ]
  },
  {
   "cell_type": "code",
   "execution_count": 4,
   "metadata": {},
   "outputs": [
    {
     "data": {
      "text/plain": [
       "'LoL Tier List for All Roles: League Meta in Patch 13.21'"
      ]
     },
     "execution_count": 4,
     "metadata": {},
     "output_type": "execute_result"
    }
   ],
   "source": [
    "soup.title.getText() # We remove the code sorrounding the text"
   ]
  },
  {
   "cell_type": "code",
   "execution_count": 5,
   "metadata": {},
   "outputs": [],
   "source": [
    "# como tenemos 5 classes hay filtrar por los 5 productos"
   ]
  },
  {
   "cell_type": "code",
   "execution_count": 6,
   "metadata": {},
   "outputs": [],
   "source": [
    "# On my url i have the information  organizen in 3 levels\n",
    "# Main Structure (\"div\", {\"class\":\"m-1wi74ow\"})\n",
    "    # 5 Sub Groups (TOP,MIDDLE,ADC,SUPPORT,JUNGLE) (\"div\", {\"class\":\"m-1twnwk2\"})\n",
    "        # 3 Tier's (S,A,B) (\"div\", {\"class\":\"m-kvvnsa\"})\n",
    "            # Inside we have the names of the chamions (\"span\", {\"class\":\"m-1hxcjhy\"})"
   ]
  },
  {
   "cell_type": "code",
   "execution_count": 7,
   "metadata": {},
   "outputs": [
    {
     "ename": "AttributeError",
     "evalue": "'NoneType' object has no attribute 'text'",
     "output_type": "error",
     "traceback": [
      "\u001b[1;31m---------------------------------------------------------------------------\u001b[0m",
      "\u001b[1;31mAttributeError\u001b[0m                            Traceback (most recent call last)",
      "\u001b[1;32mc:\\Users\\enamo\\Documents\\Ironhack\\projects\\data-pipiline\\src\\web scrapping.ipynb Cell 7\u001b[0m line \u001b[0;36m1\n\u001b[0;32m     <a href='vscode-notebook-cell:/c%3A/Users/enamo/Documents/Ironhack/projects/data-pipiline/src/web%20scrapping.ipynb#X46sZmlsZQ%3D%3D?line=14'>15</a>\u001b[0m data \u001b[39m=\u001b[39m []\n\u001b[0;32m     <a href='vscode-notebook-cell:/c%3A/Users/enamo/Documents/Ironhack/projects/data-pipiline/src/web%20scrapping.ipynb#X46sZmlsZQ%3D%3D?line=15'>16</a>\u001b[0m \u001b[39mfor\u001b[39;00m tier_group \u001b[39min\u001b[39;00m tier_groups:\n\u001b[1;32m---> <a href='vscode-notebook-cell:/c%3A/Users/enamo/Documents/Ironhack/projects/data-pipiline/src/web%20scrapping.ipynb#X46sZmlsZQ%3D%3D?line=16'>17</a>\u001b[0m     tier_letter \u001b[39m=\u001b[39m tier_group\u001b[39m.\u001b[39mfind(\u001b[39m'\u001b[39m\u001b[39mdiv\u001b[39m\u001b[39m'\u001b[39m, {\u001b[39m'\u001b[39m\u001b[39mclass\u001b[39m\u001b[39m'\u001b[39m: \u001b[39m'\u001b[39m\u001b[39mm-kvvnsa\u001b[39m\u001b[39m'\u001b[39m})\u001b[39m.\u001b[39mtext\u001b[39m.\u001b[39mstrip()  \u001b[39m# Get the letter within the tier\u001b[39;00m\n\u001b[0;32m     <a href='vscode-notebook-cell:/c%3A/Users/enamo/Documents/Ironhack/projects/data-pipiline/src/web%20scrapping.ipynb#X46sZmlsZQ%3D%3D?line=17'>18</a>\u001b[0m     champions \u001b[39m=\u001b[39m tier_group\u001b[39m.\u001b[39mfind_all(\u001b[39m'\u001b[39m\u001b[39mspan\u001b[39m\u001b[39m'\u001b[39m, {\u001b[39m'\u001b[39m\u001b[39mclass\u001b[39m\u001b[39m'\u001b[39m: \u001b[39m'\u001b[39m\u001b[39mm-1hxcjhy\u001b[39m\u001b[39m'\u001b[39m})\n\u001b[0;32m     <a href='vscode-notebook-cell:/c%3A/Users/enamo/Documents/Ironhack/projects/data-pipiline/src/web%20scrapping.ipynb#X46sZmlsZQ%3D%3D?line=18'>19</a>\u001b[0m     tier_name_tag \u001b[39m=\u001b[39m tier_group\u001b[39m.\u001b[39mfind(\u001b[39m'\u001b[39m\u001b[39mh3\u001b[39m\u001b[39m'\u001b[39m)  \u001b[39m# Find the tier name\u001b[39;00m\n",
      "\u001b[1;31mAttributeError\u001b[0m: 'NoneType' object has no attribute 'text'"
     ]
    }
   ],
   "source": [
    "import requests\n",
    "from bs4 import BeautifulSoup\n",
    "import pandas as pd\n",
    "\n",
    "url = 'https://mobalytics.gg/lol/tier-list?iRole=SUPPORT'\n",
    "\n",
    "# Fetch the HTML content\n",
    "response = requests.get(url)\n",
    "if response.status_code == 200:\n",
    "    soup = BeautifulSoup(response.content, 'html.parser')\n",
    "\n",
    "    # Find the tier group containing champions\n",
    "    tier_groups = soup.find_all('div', {'class': 'm-kvvnsa'})\n",
    "\n",
    "    data = []\n",
    "    for tier_group in tier_groups:\n",
    "        tier_letter = tier_group.find('div', {'class': 'm-kvvnsa'}).text.strip()  # Get the letter within the tier\n",
    "        champions = tier_group.find_all('span', {'class': 'm-1hxcjhy'})\n",
    "        tier_name_tag = tier_group.find('h3')  # Find the tier name\n",
    "        if tier_name_tag:\n",
    "            tier_name = tier_name_tag.text.strip()\n",
    "        else:\n",
    "            tier_name = \"Unspecified Tier\"\n",
    "\n",
    "        for champion in champions:\n",
    "            data.append([tier_letter, tier_name, champion.text])\n",
    "\n",
    "    # Create a DataFrame from the collected data\n",
    "    df = pd.DataFrame(data, columns=['Tier_Letter', 'Tier', 'Support_Champion'])\n",
    "\n",
    "    # Extract the filename from the URL\n",
    "    filename = url.split('=')[-1].split(\"'\")[0] + '.csv'\n",
    "\n",
    "    # Save the DataFrame to a CSV file\n",
    "    df.to_csv(filename, index=False)\n",
    "    print(f\"CSV file '{filename}' has been created.\")\n",
    "else:\n",
    "    print(\"Failed to retrieve the page.\")\n"
   ]
  },
  {
   "cell_type": "code",
   "execution_count": null,
   "metadata": {},
   "outputs": [],
   "source": [
    "url = 'https://mobalytics.gg/lol/tier-list?iRole=SUPPORT'\n",
    "response = requests.get(url)\n",
    "if response.status_code == 200:\n",
    "    soup = BeautifulSoup(response.content, 'html.parser')\n"
   ]
  },
  {
   "cell_type": "code",
   "execution_count": 17,
   "metadata": {},
   "outputs": [
    {
     "data": {
      "text/plain": [
       "[<img alt=\"S\" class=\"m-gj1rf2\" loading=\"lazy\" src=\"https://cdn.mobalytics.gg/assets/common/icons/hex-tiers/S.svg?2\"/>]"
      ]
     },
     "execution_count": 17,
     "metadata": {},
     "output_type": "execute_result"
    }
   ],
   "source": [
    "tier_groups = soup.find_all('img',{'alt':'S'})\n",
    "# tier_groups = [i.getText().replace(\"\\n\", \"\").strip() for i in tier_groups]\n",
    "tier_groups"
   ]
  }
 ],
 "metadata": {
  "kernelspec": {
   "display_name": "ironhack",
   "language": "python",
   "name": "ironhack"
  },
  "language_info": {
   "codemirror_mode": {
    "name": "ipython",
    "version": 3
   },
   "file_extension": ".py",
   "mimetype": "text/x-python",
   "name": "python",
   "nbconvert_exporter": "python",
   "pygments_lexer": "ipython3",
   "version": "3.11.5"
  }
 },
 "nbformat": 4,
 "nbformat_minor": 2
}
